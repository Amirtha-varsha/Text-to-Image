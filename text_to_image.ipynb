{
 "cells": [
  {
   "cell_type": "code",
   "execution_count": 1,
   "metadata": {},
   "outputs": [
    {
     "name": "stdout",
     "output_type": "stream",
     "text": [
      "^C\n",
      "Note: you may need to restart the kernel to use updated packages.\n",
      "Requirement already satisfied: diffusers in d:\\desktop\\project\\text to image\\env\\lib\\site-packages (0.32.2)\n",
      "Requirement already satisfied: transformers in d:\\desktop\\project\\text to image\\env\\lib\\site-packages (4.51.1)\n",
      "Requirement already satisfied: accelerate in d:\\desktop\\project\\text to image\\env\\lib\\site-packages (1.6.0)\n",
      "Requirement already satisfied: regex!=2019.12.17 in d:\\desktop\\project\\text to image\\env\\lib\\site-packages (from diffusers) (2024.11.6)\n",
      "Requirement already satisfied: Pillow in d:\\desktop\\project\\text to image\\env\\lib\\site-packages (from diffusers) (11.1.0)\n",
      "Requirement already satisfied: importlib-metadata in d:\\desktop\\project\\text to image\\env\\lib\\site-packages (from diffusers) (8.6.1)\n",
      "Requirement already satisfied: filelock in d:\\desktop\\project\\text to image\\env\\lib\\site-packages (from diffusers) (3.18.0)\n",
      "Requirement already satisfied: numpy in d:\\desktop\\project\\text to image\\env\\lib\\site-packages (from diffusers) (2.2.4)\n",
      "Requirement already satisfied: requests in d:\\desktop\\project\\text to image\\env\\lib\\site-packages (from diffusers) (2.32.3)\n",
      "Requirement already satisfied: safetensors>=0.3.1 in d:\\desktop\\project\\text to image\\env\\lib\\site-packages (from diffusers) (0.5.3)\n",
      "Requirement already satisfied: huggingface-hub>=0.23.2 in d:\\desktop\\project\\text to image\\env\\lib\\site-packages (from diffusers) (0.30.2)\n",
      "Requirement already satisfied: packaging>=20.0 in d:\\desktop\\project\\text to image\\env\\lib\\site-packages (from transformers) (24.2)\n",
      "Requirement already satisfied: tokenizers<0.22,>=0.21 in d:\\desktop\\project\\text to image\\env\\lib\\site-packages (from transformers) (0.21.1)\n",
      "Requirement already satisfied: tqdm>=4.27 in d:\\desktop\\project\\text to image\\env\\lib\\site-packages (from transformers) (4.67.1)\n",
      "Requirement already satisfied: pyyaml>=5.1 in d:\\desktop\\project\\text to image\\env\\lib\\site-packages (from transformers) (6.0.2)\n",
      "Requirement already satisfied: torch>=2.0.0 in d:\\desktop\\project\\text to image\\env\\lib\\site-packages (from accelerate) (2.6.0)\n",
      "Requirement already satisfied: psutil in d:\\desktop\\project\\text to image\\env\\lib\\site-packages (from accelerate) (7.0.0)\n",
      "Requirement already satisfied: typing-extensions>=3.7.4.3 in d:\\desktop\\project\\text to image\\env\\lib\\site-packages (from huggingface-hub>=0.23.2->diffusers) (4.13.1)\n",
      "Requirement already satisfied: fsspec>=2023.5.0 in d:\\desktop\\project\\text to image\\env\\lib\\site-packages (from huggingface-hub>=0.23.2->diffusers) (2025.3.2)\n",
      "Requirement already satisfied: networkx in d:\\desktop\\project\\text to image\\env\\lib\\site-packages (from torch>=2.0.0->accelerate) (3.4.2)\n",
      "Requirement already satisfied: sympy==1.13.1 in d:\\desktop\\project\\text to image\\env\\lib\\site-packages (from torch>=2.0.0->accelerate) (1.13.1)\n",
      "Requirement already satisfied: jinja2 in d:\\desktop\\project\\text to image\\env\\lib\\site-packages (from torch>=2.0.0->accelerate) (3.1.6)\n",
      "Requirement already satisfied: mpmath<1.4,>=1.1.0 in d:\\desktop\\project\\text to image\\env\\lib\\site-packages (from sympy==1.13.1->torch>=2.0.0->accelerate) (1.3.0)\n",
      "Requirement already satisfied: colorama in d:\\desktop\\project\\text to image\\env\\lib\\site-packages (from tqdm>=4.27->transformers) (0.4.6)\n",
      "Requirement already satisfied: zipp>=3.20 in d:\\desktop\\project\\text to image\\env\\lib\\site-packages (from importlib-metadata->diffusers) (3.21.0)\n",
      "Requirement already satisfied: idna<4,>=2.5 in d:\\desktop\\project\\text to image\\env\\lib\\site-packages (from requests->diffusers) (3.10)\n",
      "Requirement already satisfied: charset-normalizer<4,>=2 in d:\\desktop\\project\\text to image\\env\\lib\\site-packages (from requests->diffusers) (3.4.1)\n",
      "Requirement already satisfied: certifi>=2017.4.17 in d:\\desktop\\project\\text to image\\env\\lib\\site-packages (from requests->diffusers) (2025.1.31)\n",
      "Requirement already satisfied: urllib3<3,>=1.21.1 in d:\\desktop\\project\\text to image\\env\\lib\\site-packages (from requests->diffusers) (2.3.0)\n",
      "Requirement already satisfied: MarkupSafe>=2.0 in d:\\desktop\\project\\text to image\\env\\lib\\site-packages (from jinja2->torch>=2.0.0->accelerate) (3.0.2)\n",
      "Note: you may need to restart the kernel to use updated packages.\n"
     ]
    },
    {
     "name": "stderr",
     "output_type": "stream",
     "text": [
      "\n",
      "[notice] A new release of pip is available: 23.0.1 -> 25.0.1\n",
      "[notice] To update, run: python.exe -m pip install --upgrade pip\n"
     ]
    }
   ],
   "source": [
    "%pip install torch torchvision torchaudio --extra-index-url https://download.pytorch.org/whl/cu118\n",
    "%pip install diffusers transformers accelerate"
   ]
  },
  {
   "cell_type": "code",
   "execution_count": 1,
   "metadata": {},
   "outputs": [
    {
     "name": "stderr",
     "output_type": "stream",
     "text": [
      "d:\\Desktop\\project\\Text to image\\env\\lib\\site-packages\\tqdm\\auto.py:21: TqdmWarning: IProgress not found. Please update jupyter and ipywidgets. See https://ipywidgets.readthedocs.io/en/stable/user_install.html\n",
      "  from .autonotebook import tqdm as notebook_tqdm\n"
     ]
    }
   ],
   "source": [
    "#importing libraries\n",
    "from diffusers import StableDiffusionPipeline\n",
    "from transformers import CLIPTokenizer,CLIPTextModel\n",
    "import torch\n",
    "from PIL import Image\n",
    "import matplotlib.pyplot as plt"
   ]
  },
  {
   "cell_type": "code",
   "execution_count": 2,
   "metadata": {},
   "outputs": [],
   "source": [
    "#Loading tokenizer and text encoder\n",
    "tokenizer=CLIPTokenizer.from_pretrained(\"openai/clip-vit-base-patch32\")\n",
    "text_encoder=CLIPTextModel.from_pretrained(\"openai/clip-vit-base-patch32\")"
   ]
  },
  {
   "cell_type": "code",
   "execution_count": 3,
   "metadata": {},
   "outputs": [],
   "source": [
    "#tokenizing and encoding the input prompt\n",
    "prompt=\"A girl standing infront of a beutiful snow covered home in himalayas\"\n",
    "tokens=tokenizer(prompt,return_tensors=\"pt\")\n",
    "embeddings=text_encoder(**tokens).last_hidden_state"
   ]
  },
  {
   "cell_type": "code",
   "execution_count": 4,
   "metadata": {},
   "outputs": [
    {
     "name": "stdout",
     "output_type": "stream",
     "text": [
      "\n",
      "Token ID: tensor([[49406,   320,  1611,  2862, 37668,   539,   320, 38660, 29123,  2583,\n",
      "          5603,  1137,   530, 32872, 49407]])\n",
      "Embeddings shape: torch.Size([1, 15, 512])\n"
     ]
    }
   ],
   "source": [
    "print (\"\\nToken ID:\",tokens[\"input_ids\"])\n",
    "print(\"Embeddings shape:\",embeddings.shape)"
   ]
  },
  {
   "cell_type": "code",
   "execution_count": 7,
   "metadata": {},
   "outputs": [
    {
     "name": "stderr",
     "output_type": "stream",
     "text": [
      "Loading pipeline components...: 100%|██████████| 7/7 [00:01<00:00,  4.24it/s]\n"
     ]
    }
   ],
   "source": [
    "#Pipeline\n",
    "pipe=StableDiffusionPipeline.from_pretrained(\n",
    "    \"runwayml/stable-diffusion-v1-5\",torch_dtype=torch.float32,\n",
    "   \n",
    ")\n",
    "pipe=pipe.to(\"cpu\")"
   ]
  },
  {
   "cell_type": "code",
   "execution_count": 8,
   "metadata": {},
   "outputs": [
    {
     "name": "stderr",
     "output_type": "stream",
     "text": [
      "d:\\Desktop\\project\\Text to image\\env\\lib\\site-packages\\torch\\amp\\autocast_mode.py:266: UserWarning: User provided device_type of 'cuda', but CUDA is not available. Disabling\n",
      "  warnings.warn(\n",
      "100%|██████████| 50/50 [13:04<00:00, 15.69s/it]\n"
     ]
    }
   ],
   "source": [
    "#generating image from prompt\n",
    "with torch.autocast(\"cuda\"):\n",
    "    image=pipe(prompt).images[0]\n"
   ]
  },
  {
   "cell_type": "code",
   "execution_count": 9,
   "metadata": {},
   "outputs": [],
   "source": [
    "image.show()\n",
    "image.save(\"output_image.png\")"
   ]
  },
  {
   "cell_type": "code",
   "execution_count": 10,
   "metadata": {},
   "outputs": [],
   "source": [
    "pipe.save_pretrained(\"saved_model\")"
   ]
  },
  {
   "cell_type": "code",
   "execution_count": null,
   "metadata": {},
   "outputs": [],
   "source": []
  }
 ],
 "metadata": {
  "kernelspec": {
   "display_name": "env",
   "language": "python",
   "name": "python3"
  },
  "language_info": {
   "codemirror_mode": {
    "name": "ipython",
    "version": 3
   },
   "file_extension": ".py",
   "mimetype": "text/x-python",
   "name": "python",
   "nbconvert_exporter": "python",
   "pygments_lexer": "ipython3",
   "version": "3.10.11"
  }
 },
 "nbformat": 4,
 "nbformat_minor": 2
}
